{
 "cells": [
  {
   "cell_type": "code",
   "execution_count": 1,
   "id": "3fc6138e",
   "metadata": {},
   "outputs": [],
   "source": [
    "import pandas as pd\n",
    "from sklearn import svm\n",
    "from sklearn.metrics import cohen_kappa_score\n",
    "from sklearn.preprocessing import StandardScaler\n",
    "from sklearn.model_selection import train_test_split as tt\n",
    "from sklearn.metrics import accuracy_score, confusion_matrix, classification_report\n",
    "import warnings\n",
    "warnings.filterwarnings(\"ignore\")\n",
    "\n",
    "df = pd.read_csv(r\"F:\\Programs\\PycharmProjects\\pythonProject\\Malware-dataset.csv\")\n",
    "df['classification'] = df.classification.map({'benign':0, 'malware':1})\n",
    "X = df.drop([\"hash\",\"classification\",'vm_truncate_count','shared_vm','exec_vm','nvcsw','maj_flt','utime'],axis=1)\n",
    "Y = df[\"classification\"]\n",
    "\n",
    "x_train,x_test,y_train,y_test=tt(X,Y,test_size=0.4,random_state=42)\n",
    "\n",
    "scaler = StandardScaler()\n",
    "x_train = scaler.fit_transform(x_train)\n",
    "x_test = scaler.transform(x_test)"
   ]
  },
  {
   "cell_type": "code",
   "execution_count": 2,
   "id": "6308d624",
   "metadata": {},
   "outputs": [
    {
     "name": "stdout",
     "output_type": "stream",
     "text": [
      "[[ 7495 12533]\n",
      " [ 1514 18458]]\n",
      "\n",
      "Accuracy : 0.648825\n",
      "\n",
      "Classification Report : \n",
      "              precision    recall  f1-score   support\n",
      "\n",
      "           0       0.83      0.37      0.52     20028\n",
      "           1       0.60      0.92      0.72     19972\n",
      "\n",
      "    accuracy                           0.65     40000\n",
      "   macro avg       0.71      0.65      0.62     40000\n",
      "weighted avg       0.71      0.65      0.62     40000\n",
      "\n",
      "cohen kappa score\n",
      "0.29818995159693984\n"
     ]
    }
   ],
   "source": [
    "from sklearn.naive_bayes import GaussianNB\n",
    "\n",
    "gnb = GaussianNB()\n",
    "gnb.fit(x_train, y_train)\n",
    "predGNB = gnb.predict(x_test)\n",
    "\n",
    "print(confusion_matrix(y_test , predGNB))\n",
    "print('')\n",
    "print('Accuracy : {}'.format(accuracy_score(y_test , predGNB)))\n",
    "print('')\n",
    "print('Classification Report : \\n{}'.format(classification_report(y_test , predGNB)))\n",
    "print(\"cohen kappa score\")\n",
    "print(cohen_kappa_score(y_test, predGNB))"
   ]
  },
  {
   "cell_type": "code",
   "execution_count": 3,
   "id": "be4b20c1",
   "metadata": {},
   "outputs": [
    {
     "name": "stdout",
     "output_type": "stream",
     "text": [
      "[[20009    19]\n",
      " [   15 19957]]\n",
      "\n",
      "Accuracy : 0.99915\n",
      "\n",
      "Classification Report : \n",
      "              precision    recall  f1-score   support\n",
      "\n",
      "           0       1.00      1.00      1.00     20028\n",
      "           1       1.00      1.00      1.00     19972\n",
      "\n",
      "    accuracy                           1.00     40000\n",
      "   macro avg       1.00      1.00      1.00     40000\n",
      "weighted avg       1.00      1.00      1.00     40000\n",
      "\n",
      "cohen kappa score\n",
      "0.9982999971439952\n",
      "\n"
     ]
    }
   ],
   "source": [
    "from sklearn.neighbors import KNeighborsClassifier\n",
    "\n",
    "for i in range(3,15,3):\n",
    "    \n",
    "    neigh = KNeighborsClassifier(n_neighbors=i)\n",
    "    neigh.fit(x_train, y_train)\n",
    "    predKNN = neigh.predict(x_test)\n",
    "    \n",
    "print(confusion_matrix(y_test , predKNN))\n",
    "print('')\n",
    "print('Accuracy : {}'.format(accuracy_score(y_test , predKNN)))\n",
    "print('')\n",
    "print('Classification Report : \\n{}'.format(classification_report(y_test , predKNN)))\n",
    "print(\"cohen kappa score\")\n",
    "print(cohen_kappa_score(y_test, predKNN))\n",
    "print(\"\")"
   ]
  },
  {
   "cell_type": "code",
   "execution_count": 4,
   "id": "a83bbcae",
   "metadata": {},
   "outputs": [
    {
     "name": "stdout",
     "output_type": "stream",
     "text": [
      "[[20028     0]\n",
      " [    0 19972]]\n",
      "\n",
      "Accuracy : 1.0\n",
      "\n",
      "Classification Report : \n",
      "              precision    recall  f1-score   support\n",
      "\n",
      "           0       1.00      1.00      1.00     20028\n",
      "           1       1.00      1.00      1.00     19972\n",
      "\n",
      "    accuracy                           1.00     40000\n",
      "   macro avg       1.00      1.00      1.00     40000\n",
      "weighted avg       1.00      1.00      1.00     40000\n",
      "\n",
      "cohen kappa score\n",
      "1.0\n",
      "\n"
     ]
    }
   ],
   "source": [
    "from sklearn import tree\n",
    "\n",
    "clf = tree.DecisionTreeClassifier()\n",
    "clf.fit(x_train, y_train)\n",
    "predDT = clf.predict(x_test)\n",
    "\n",
    "print(confusion_matrix(y_test , predDT))\n",
    "print('')\n",
    "print('Accuracy : {}'.format(accuracy_score(y_test , predDT)))\n",
    "print('')\n",
    "print('Classification Report : \\n{}'.format(classification_report(y_test , predDT)))\n",
    "print(\"cohen kappa score\")\n",
    "print(cohen_kappa_score(y_test, predDT))\n",
    "print(\"\")"
   ]
  },
  {
   "cell_type": "code",
   "execution_count": 5,
   "id": "5ed432eb",
   "metadata": {},
   "outputs": [
    {
     "name": "stdout",
     "output_type": "stream",
     "text": [
      "[[20028     0]\n",
      " [    0 19972]]\n",
      "\n",
      "Accuracy : 1.0\n",
      "\n",
      "Classification Report : \n",
      "              precision    recall  f1-score   support\n",
      "\n",
      "           0       1.00      1.00      1.00     20028\n",
      "           1       1.00      1.00      1.00     19972\n",
      "\n",
      "    accuracy                           1.00     40000\n",
      "   macro avg       1.00      1.00      1.00     40000\n",
      "weighted avg       1.00      1.00      1.00     40000\n",
      "\n",
      "cohen kappa score\n",
      "1.0\n",
      "\n"
     ]
    }
   ],
   "source": [
    "from sklearn.ensemble import RandomForestClassifier\n",
    "\n",
    "rdF=RandomForestClassifier(n_estimators=250, max_depth=50,random_state=45)\n",
    "rdF.fit(x_train,y_train)\n",
    "predRF=rdF.predict(x_test)\n",
    "\n",
    "print(confusion_matrix(y_test , predRF))\n",
    "print('')\n",
    "print('Accuracy : {}'.format(accuracy_score(y_test , predRF)))\n",
    "print('')\n",
    "print('Classification Report : \\n{}'.format(classification_report(y_test , predRF)))\n",
    "print(\"cohen kappa score\")\n",
    "print(cohen_kappa_score(y_test, predRF))\n",
    "print(\"\")"
   ]
  },
  {
   "cell_type": "code",
   "execution_count": 6,
   "id": "62368665",
   "metadata": {},
   "outputs": [
    {
     "name": "stdout",
     "output_type": "stream",
     "text": [
      "[[18715  1313]\n",
      " [ 1299 18673]]\n",
      "\n",
      "Accuracy : 0.9347\n",
      "\n",
      "Classification Report : \n",
      "              precision    recall  f1-score   support\n",
      "\n",
      "           0       0.94      0.93      0.93     20028\n",
      "           1       0.93      0.93      0.93     19972\n",
      "\n",
      "    accuracy                           0.93     40000\n",
      "   macro avg       0.93      0.93      0.93     40000\n",
      "weighted avg       0.93      0.93      0.93     40000\n",
      "\n",
      "cohen kappa score\n",
      "0.8693998720118745\n"
     ]
    }
   ],
   "source": [
    "clf = svm.SVC(kernel='linear')\n",
    "clf.fit(x_train, y_train)\n",
    "y_predSVM = clf.predict(x_test)\n",
    "\n",
    "print(confusion_matrix(y_test , y_predSVM))\n",
    "print('')\n",
    "print('Accuracy : {}'.format(accuracy_score(y_test , y_predSVM)))\n",
    "print('')\n",
    "print('Classification Report : \\n{}'.format(classification_report(y_test , y_predSVM)))\n",
    "print(\"cohen kappa score\")\n",
    "print(cohen_kappa_score(y_test, y_predSVM))"
   ]
  },
  {
   "cell_type": "code",
   "execution_count": 7,
   "id": "fce29693",
   "metadata": {},
   "outputs": [
    {
     "data": {
      "image/png": "[encoded data removed]",
      "text/plain": [
       "<Figure size 640x480 with 1 Axes>"
      ]
     },
     "metadata": {},
     "output_type": "display_data"
    }
   ],
   "source": [
    "#Cohen Kappa Score of All algorithm\n",
    "svmCKS = cohen_kappa_score(y_test, y_predSVM)\n",
    "gbnCKS = cohen_kappa_score(y_test, predGNB)\n",
    "knnCKS = cohen_kappa_score(y_test, predKNN)\n",
    "dtCKS = cohen_kappa_score(y_test, predDT)\n",
    "rfCKS = cohen_kappa_score(y_test, predRF)\n",
    "\n",
    "#Accuracy Score of All algorithm\n",
    "svmAC = accuracy_score(y_test, y_predSVM)\n",
    "gbnAC = accuracy_score(y_test, predGNB)\n",
    "knnAC = accuracy_score(y_test, predKNN)\n",
    "dtAC = accuracy_score(y_test, predDT)\n",
    "rfAC = accuracy_score(y_test, predRF)\n",
    "\n",
    "A = [svmCKS, gbnCKS, knnCKS, dtCKS, rfCKS]\n",
    "B = [svmAC, gbnAC, knnAC, dtAC, rfAC]\n",
    "\n",
    "#For Ploting the Graph\n",
    "import numpy as np\n",
    "import matplotlib.pyplot as plt\n",
    "Algorithm = ['Support\\nVector\\nMachine','Gaussian\\nNaive\\nBayes','K-Nearest\\nNeighbors','Decision\\nTree', 'Random\\nForest']\n",
    "X_axis = np.arange(len(Algorithm))\n",
    "plt.bar(X_axis - 0.2, B, 0.4, label = 'Accuracy')\n",
    "plt.bar(X_axis + 0.2, A, 0.4, label = 'Cohen Kappa Score')\n",
    "plt.xticks(X_axis, Algorithm)\n",
    "plt.xlabel(\"Machine Learning Algorithms\")\n",
    "plt.ylabel(\"Score\")\n",
    "plt.title(\"Accuracy and Cohen Kappa Score Chart\")\n",
    "plt.legend()\n",
    "plt.show()"
   ]
  },
  {
   "cell_type": "code",
   "execution_count": null,
   "id": "79e7ed8f",
   "metadata": {},
   "outputs": [],
   "source": []
  }
 ],
 "metadata": {
  "kernelspec": {
   "display_name": "Python 3 (ipykernel)",
   "language": "python",
   "name": "python3"
  },
  "language_info": {
   "codemirror_mode": {
    "name": "ipython",
    "version": 3
   },
   "file_extension": ".py",
   "mimetype": "text/x-python",
   "name": "python",
   "nbconvert_exporter": "python",
   "pygments_lexer": "ipython3",
   "version": "3.9.4"
  }
 },
 "nbformat": 4,
 "nbformat_minor": 5
}
